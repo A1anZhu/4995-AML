{
 "cells": [
  {
   "cell_type": "markdown",
   "metadata": {
    "id": "mkiYBKTBFV-Z"
   },
   "source": [
    "## Homework 3\n",
    "### Part 1: Imbalanced Dataset\n",
    "\n",
    " In this homework, you will be working with an imbalanced Dataset. The dataset is Credit Card Fraud Detection dataset which was hosted on Kaggle. The aim is to detect fraudlent transactions."
   ]
  },
  {
   "cell_type": "markdown",
   "metadata": {},
   "source": [
    "## Name: Liwen Zhu\n",
    "## UNI: lz2512"
   ]
  },
  {
   "cell_type": "markdown",
   "metadata": {
    "id": "QXjHDwbBGaYB"
   },
   "source": [
    "### Instructions\n",
    "\n",
    "Please push the .ipynb, .py, and .pdf to Github Classroom prior to the deadline. Please include your UNI as well."
   ]
  },
  {
   "cell_type": "markdown",
   "metadata": {
    "id": "yCpeRNO9GjyP"
   },
   "source": [
    "### Setup"
   ]
  },
  {
   "cell_type": "code",
   "execution_count": 1,
   "metadata": {
    "id": "UB0aoX-eGX0X"
   },
   "outputs": [],
   "source": [
    "import numpy as np\n",
    "import pandas as pd\n",
    "import matplotlib.pyplot as plt\n",
    "import seaborn as sns"
   ]
  },
  {
   "cell_type": "code",
   "execution_count": 2,
   "metadata": {
    "id": "f25EsV59GmeU"
   },
   "outputs": [],
   "source": [
    "# Feel free to import any other packages you'd like to\n",
    "from sklearn.model_selection import train_test_split\n",
    "from sklearn.preprocessing import StandardScaler\n",
    "from sklearn.tree import DecisionTreeClassifier\n",
    "from sklearn.model_selection import cross_validate\n",
    "from imblearn.over_sampling import RandomOverSampler\n",
    "from imblearn.under_sampling import RandomUnderSampler\n",
    "from imblearn.over_sampling import SMOTE\n",
    "from sklearn.model_selection import cross_val_predict\n",
    "from sklearn.metrics import roc_auc_score\n",
    "from sklearn.metrics import roc_curve\n",
    "from sklearn.metrics import plot_confusion_matrix\n",
    "from sklearn.metrics import auc"
   ]
  },
  {
   "cell_type": "markdown",
   "metadata": {
    "id": "s6DdcyXWGtHm"
   },
   "source": [
    "### **Data Preprocessing and Exploration**\n",
    "Download the Kaggle Credit Card Fraud data set. Features V1, V2, … V28 are the principal components obtained with PCA, the only features which have not been transformed with PCA are 'Time' and 'Amount'. Feature 'Time' contains the seconds elapsed between each transaction and the first transaction in the dataset. The feature 'Amount' is the transaction Amount, this feature can be used for example-dependant cost-sensitive learning. Feature 'Class' is the response variable and it takes value 1 in case of fraud and 0 otherwise."
   ]
  },
  {
   "cell_type": "code",
   "execution_count": 3,
   "metadata": {
    "colab": {
     "base_uri": "https://localhost:8080/",
     "height": 300
    },
    "id": "gzbL79SLGwTc",
    "outputId": "a7334725-a6ff-41ab-a78f-fbd79053352b"
   },
   "outputs": [
    {
     "data": {
      "text/html": [
       "<div>\n",
       "<style scoped>\n",
       "    .dataframe tbody tr th:only-of-type {\n",
       "        vertical-align: middle;\n",
       "    }\n",
       "\n",
       "    .dataframe tbody tr th {\n",
       "        vertical-align: top;\n",
       "    }\n",
       "\n",
       "    .dataframe thead th {\n",
       "        text-align: right;\n",
       "    }\n",
       "</style>\n",
       "<table border=\"1\" class=\"dataframe\">\n",
       "  <thead>\n",
       "    <tr style=\"text-align: right;\">\n",
       "      <th></th>\n",
       "      <th>Time</th>\n",
       "      <th>V1</th>\n",
       "      <th>V2</th>\n",
       "      <th>V3</th>\n",
       "      <th>V4</th>\n",
       "      <th>V5</th>\n",
       "      <th>V6</th>\n",
       "      <th>V7</th>\n",
       "      <th>V8</th>\n",
       "      <th>V9</th>\n",
       "      <th>...</th>\n",
       "      <th>V21</th>\n",
       "      <th>V22</th>\n",
       "      <th>V23</th>\n",
       "      <th>V24</th>\n",
       "      <th>V25</th>\n",
       "      <th>V26</th>\n",
       "      <th>V27</th>\n",
       "      <th>V28</th>\n",
       "      <th>Amount</th>\n",
       "      <th>Class</th>\n",
       "    </tr>\n",
       "  </thead>\n",
       "  <tbody>\n",
       "    <tr>\n",
       "      <th>0</th>\n",
       "      <td>0.0</td>\n",
       "      <td>-1.359807</td>\n",
       "      <td>-0.072781</td>\n",
       "      <td>2.536347</td>\n",
       "      <td>1.378155</td>\n",
       "      <td>-0.338321</td>\n",
       "      <td>0.462388</td>\n",
       "      <td>0.239599</td>\n",
       "      <td>0.098698</td>\n",
       "      <td>0.363787</td>\n",
       "      <td>...</td>\n",
       "      <td>-0.018307</td>\n",
       "      <td>0.277838</td>\n",
       "      <td>-0.110474</td>\n",
       "      <td>0.066928</td>\n",
       "      <td>0.128539</td>\n",
       "      <td>-0.189115</td>\n",
       "      <td>0.133558</td>\n",
       "      <td>-0.021053</td>\n",
       "      <td>149.62</td>\n",
       "      <td>0</td>\n",
       "    </tr>\n",
       "    <tr>\n",
       "      <th>1</th>\n",
       "      <td>0.0</td>\n",
       "      <td>1.191857</td>\n",
       "      <td>0.266151</td>\n",
       "      <td>0.166480</td>\n",
       "      <td>0.448154</td>\n",
       "      <td>0.060018</td>\n",
       "      <td>-0.082361</td>\n",
       "      <td>-0.078803</td>\n",
       "      <td>0.085102</td>\n",
       "      <td>-0.255425</td>\n",
       "      <td>...</td>\n",
       "      <td>-0.225775</td>\n",
       "      <td>-0.638672</td>\n",
       "      <td>0.101288</td>\n",
       "      <td>-0.339846</td>\n",
       "      <td>0.167170</td>\n",
       "      <td>0.125895</td>\n",
       "      <td>-0.008983</td>\n",
       "      <td>0.014724</td>\n",
       "      <td>2.69</td>\n",
       "      <td>0</td>\n",
       "    </tr>\n",
       "    <tr>\n",
       "      <th>2</th>\n",
       "      <td>1.0</td>\n",
       "      <td>-1.358354</td>\n",
       "      <td>-1.340163</td>\n",
       "      <td>1.773209</td>\n",
       "      <td>0.379780</td>\n",
       "      <td>-0.503198</td>\n",
       "      <td>1.800499</td>\n",
       "      <td>0.791461</td>\n",
       "      <td>0.247676</td>\n",
       "      <td>-1.514654</td>\n",
       "      <td>...</td>\n",
       "      <td>0.247998</td>\n",
       "      <td>0.771679</td>\n",
       "      <td>0.909412</td>\n",
       "      <td>-0.689281</td>\n",
       "      <td>-0.327642</td>\n",
       "      <td>-0.139097</td>\n",
       "      <td>-0.055353</td>\n",
       "      <td>-0.059752</td>\n",
       "      <td>378.66</td>\n",
       "      <td>0</td>\n",
       "    </tr>\n",
       "    <tr>\n",
       "      <th>3</th>\n",
       "      <td>1.0</td>\n",
       "      <td>-0.966272</td>\n",
       "      <td>-0.185226</td>\n",
       "      <td>1.792993</td>\n",
       "      <td>-0.863291</td>\n",
       "      <td>-0.010309</td>\n",
       "      <td>1.247203</td>\n",
       "      <td>0.237609</td>\n",
       "      <td>0.377436</td>\n",
       "      <td>-1.387024</td>\n",
       "      <td>...</td>\n",
       "      <td>-0.108300</td>\n",
       "      <td>0.005274</td>\n",
       "      <td>-0.190321</td>\n",
       "      <td>-1.175575</td>\n",
       "      <td>0.647376</td>\n",
       "      <td>-0.221929</td>\n",
       "      <td>0.062723</td>\n",
       "      <td>0.061458</td>\n",
       "      <td>123.50</td>\n",
       "      <td>0</td>\n",
       "    </tr>\n",
       "    <tr>\n",
       "      <th>4</th>\n",
       "      <td>2.0</td>\n",
       "      <td>-1.158233</td>\n",
       "      <td>0.877737</td>\n",
       "      <td>1.548718</td>\n",
       "      <td>0.403034</td>\n",
       "      <td>-0.407193</td>\n",
       "      <td>0.095921</td>\n",
       "      <td>0.592941</td>\n",
       "      <td>-0.270533</td>\n",
       "      <td>0.817739</td>\n",
       "      <td>...</td>\n",
       "      <td>-0.009431</td>\n",
       "      <td>0.798278</td>\n",
       "      <td>-0.137458</td>\n",
       "      <td>0.141267</td>\n",
       "      <td>-0.206010</td>\n",
       "      <td>0.502292</td>\n",
       "      <td>0.219422</td>\n",
       "      <td>0.215153</td>\n",
       "      <td>69.99</td>\n",
       "      <td>0</td>\n",
       "    </tr>\n",
       "  </tbody>\n",
       "</table>\n",
       "<p>5 rows × 31 columns</p>\n",
       "</div>"
      ],
      "text/plain": [
       "   Time        V1        V2        V3        V4        V5        V6        V7  \\\n",
       "0   0.0 -1.359807 -0.072781  2.536347  1.378155 -0.338321  0.462388  0.239599   \n",
       "1   0.0  1.191857  0.266151  0.166480  0.448154  0.060018 -0.082361 -0.078803   \n",
       "2   1.0 -1.358354 -1.340163  1.773209  0.379780 -0.503198  1.800499  0.791461   \n",
       "3   1.0 -0.966272 -0.185226  1.792993 -0.863291 -0.010309  1.247203  0.237609   \n",
       "4   2.0 -1.158233  0.877737  1.548718  0.403034 -0.407193  0.095921  0.592941   \n",
       "\n",
       "         V8        V9  ...       V21       V22       V23       V24       V25  \\\n",
       "0  0.098698  0.363787  ... -0.018307  0.277838 -0.110474  0.066928  0.128539   \n",
       "1  0.085102 -0.255425  ... -0.225775 -0.638672  0.101288 -0.339846  0.167170   \n",
       "2  0.247676 -1.514654  ...  0.247998  0.771679  0.909412 -0.689281 -0.327642   \n",
       "3  0.377436 -1.387024  ... -0.108300  0.005274 -0.190321 -1.175575  0.647376   \n",
       "4 -0.270533  0.817739  ... -0.009431  0.798278 -0.137458  0.141267 -0.206010   \n",
       "\n",
       "        V26       V27       V28  Amount  Class  \n",
       "0 -0.189115  0.133558 -0.021053  149.62      0  \n",
       "1  0.125895 -0.008983  0.014724    2.69      0  \n",
       "2 -0.139097 -0.055353 -0.059752  378.66      0  \n",
       "3 -0.221929  0.062723  0.061458  123.50      0  \n",
       "4  0.502292  0.219422  0.215153   69.99      0  \n",
       "\n",
       "[5 rows x 31 columns]"
      ]
     },
     "execution_count": 3,
     "metadata": {},
     "output_type": "execute_result"
    }
   ],
   "source": [
    "raw_df = pd.read_csv('https://storage.googleapis.com/download.tensorflow.org/data/creditcard.csv')\n",
    "raw_df.head()"
   ]
  },
  {
   "cell_type": "markdown",
   "metadata": {
    "id": "f7iaHyCqG6lk"
   },
   "source": [
    "#### **1.1 Examining the class Imbalance**\n",
    "**1.1.1 How many observations are in this dataset? How many are positive and negative?**\n",
    "(Note: Positive labels are labeled as 1)"
   ]
  },
  {
   "cell_type": "code",
   "execution_count": 4,
   "metadata": {
    "id": "BXv6y3-SG1JJ"
   },
   "outputs": [
    {
     "name": "stdout",
     "output_type": "stream",
     "text": [
      "There are 284807 observations. 492 are positive and 284315 are negative.\n"
     ]
    }
   ],
   "source": [
    "# Your Code here\n",
    "raw_df['Class'].value_counts()\n",
    "\n",
    "print(f\"There are {raw_df.shape[0]} observations. 492 are positive and 284315 are negative.\")"
   ]
  },
  {
   "cell_type": "markdown",
   "metadata": {
    "id": "La6L9rkGHZD7"
   },
   "source": [
    "#### **1.2 Cleaning and normalizing the data**\n",
    "The raw data has a few issues. We are not sure what the time column actually means so drop the Time column. The Amount column also has a wide range of values covered so we take the log of the Amount column to reduce its range."
   ]
  },
  {
   "cell_type": "code",
   "execution_count": 5,
   "metadata": {
    "id": "weojo62PHXHj"
   },
   "outputs": [],
   "source": [
    "cleaned_df = raw_df.copy()\n",
    "\n",
    "# You don't want the `Time` column.\n",
    "cleaned_df.pop('Time')\n",
    "\n",
    "# The `Amount` column covers a huge range. Convert to log-space.\n",
    "eps = 0.001 # 0 => 0.1¢\n",
    "cleaned_df['Log Ammount'] = np.log(cleaned_df.pop('Amount')+eps)"
   ]
  },
  {
   "cell_type": "markdown",
   "metadata": {
    "id": "xOftMoAtI_QU"
   },
   "source": [
    "**1.2.1 Split the dataset into development and test sets. Please set test size as 0.2 and random state as 42. Print the shape of your development and test features**"
   ]
  },
  {
   "cell_type": "code",
   "execution_count": 6,
   "metadata": {
    "id": "Wn9dT8cXIvNi"
   },
   "outputs": [
    {
     "name": "stdout",
     "output_type": "stream",
     "text": [
      "X_dev.shape: (227845, 29); X_test.shape: (56962, 29); y_dev.shape: (227845,); y_test.shape: (56962,)\n"
     ]
    }
   ],
   "source": [
    "# Your Code Here\n",
    "## YOUR CODE HERE\n",
    "X=cleaned_df.drop('Class',axis=1)\n",
    "y=cleaned_df['Class']\n",
    "X_dev, X_test, y_dev, y_test = train_test_split(X, y, test_size=0.2, random_state=42,stratify=y)\n",
    "print(f\"X_dev.shape: {X_dev.shape}; X_test.shape: {X_test.shape}; y_dev.shape: {y_dev.shape}; y_test.shape: {y_test.shape}\")"
   ]
  },
  {
   "cell_type": "markdown",
   "metadata": {
    "id": "xkdb9wmeJKx8"
   },
   "source": [
    "**1.2.2 Normalize the features using Standard Scaler from Sklearn.**"
   ]
  },
  {
   "cell_type": "code",
   "execution_count": 7,
   "metadata": {
    "id": "6NQKlUcwJH1O"
   },
   "outputs": [],
   "source": [
    "# Your Code Here\n",
    "ss = StandardScaler()\n",
    "X_dev = ss.fit_transform(X_dev)\n",
    "X_test = ss.fit_transform(X_test)"
   ]
  },
  {
   "cell_type": "markdown",
   "metadata": {
    "id": "xe_W1FPtJ3PQ"
   },
   "source": [
    "#### **1.3 Defining Model and Performance Metrics**"
   ]
  },
  {
   "cell_type": "code",
   "execution_count": null,
   "metadata": {
    "id": "N9IfewuXJhQ9"
   },
   "outputs": [],
   "source": []
  },
  {
   "cell_type": "markdown",
   "metadata": {
    "id": "8kSY6RNPKKhu"
   },
   "source": [
    "**1.3.1 First, let us fit a default Decision tree classifier. ( use max_depth=10 and random_state=42). Print the AUC and Average Precision values of 5 Fold Cross Validation**"
   ]
  },
  {
   "cell_type": "code",
   "execution_count": 8,
   "metadata": {
    "id": "WUb3DJOHK2UA"
   },
   "outputs": [
    {
     "name": "stdout",
     "output_type": "stream",
     "text": [
      "The AUC scores are [0.88756328 0.88400873 0.81260522 0.77454358 0.82104149], and the average precision scores are [0.62653551 0.71014615 0.60399496 0.58692296 0.68112078]\n"
     ]
    }
   ],
   "source": [
    "# Your Code here\n",
    "dtc = DecisionTreeClassifier(max_depth=10,random_state=42)\n",
    "scores = cross_validate(dtc,X_dev,y_dev,cv=5,scoring=['roc_auc','average_precision'])\n",
    "print(f\"The AUC scores are {scores['test_roc_auc']}, \\\n",
    "and the average precision scores are {scores['test_average_precision']}\")"
   ]
  },
  {
   "cell_type": "markdown",
   "metadata": {
    "id": "WOKFElp7K7Dw"
   },
   "source": [
    "**1.3.2 Perform random oversampling on the development dataset.**\n",
    "\n",
    "\n",
    "*   What many positive and negative labels do you observe after random oversampling?\n",
    "*   What is the shape of your development dataset?\n",
    "\n",
    "(Note: Set random state as 42 when performing oversampling)\n"
   ]
  },
  {
   "cell_type": "code",
   "execution_count": 9,
   "metadata": {
    "id": "t-2VVTY8K5c4"
   },
   "outputs": [
    {
     "name": "stdout",
     "output_type": "stream",
     "text": [
      "0    227451\n",
      "1    227451\n",
      "Name: Class, dtype: int64\n",
      "There are 227451 positive and 227451 negative labels. The shape of the development dataset is (454902, 29)\n"
     ]
    }
   ],
   "source": [
    "# Your Code here\n",
    "ros = RandomOverSampler(random_state = 42)\n",
    "X_dev_over,y_dev_over = ros.fit_resample(X_dev,y_dev)\n",
    "print(y_dev_over.value_counts())\n",
    "print(f\"There are 227451 positive and 227451 negative labels. The shape of the development dataset is {X_dev_over.shape}\")"
   ]
  },
  {
   "cell_type": "markdown",
   "metadata": {
    "id": "45ayLBshLuKl"
   },
   "source": [
    "**1.3.3 Repeat 1.3.1 using the dataset you created in the above step(1.3.2 Random oversampling). (Make sure you use the same hyperparameters as 1.3.1. i.e., max_depth=10 and random_state=42. This will help us to compare the models)**"
   ]
  },
  {
   "cell_type": "code",
   "execution_count": 10,
   "metadata": {
    "id": "7DDb_cTFLsKM"
   },
   "outputs": [
    {
     "name": "stdout",
     "output_type": "stream",
     "text": [
      "The AUC scores are [0.99886808 0.99929956 0.99900977 0.99926441 0.99932258], and the average precision scores are [0.99816396 0.99884446 0.99826911 0.9986672  0.99874564]\n"
     ]
    }
   ],
   "source": [
    "# Your Code here\n",
    "scores_over = cross_validate(dtc,X_dev_over,y_dev_over,cv=5,scoring=['roc_auc','average_precision'])\n",
    "print(f\"The AUC scores are {scores_over['test_roc_auc']}, and the average precision scores are {scores_over['test_average_precision']}\")"
   ]
  },
  {
   "cell_type": "markdown",
   "metadata": {
    "id": "Z7un4RnfMX56"
   },
   "source": [
    "**1.3.4 Perform Random undersampling on the development dataset**. \n",
    "- What many positive and negative labels do you observe after random undersampling?\n",
    "- What is the shape of your development dataset?\n",
    "(Note: Set random state as 42 when performing undersampling)"
   ]
  },
  {
   "cell_type": "code",
   "execution_count": 11,
   "metadata": {
    "id": "9LSxKMiZMSTZ"
   },
   "outputs": [
    {
     "name": "stdout",
     "output_type": "stream",
     "text": [
      "0    394\n",
      "1    394\n",
      "Name: Class, dtype: int64\n",
      "There are 394 positive and 394 negative labels. The shape of the development dataset is (788, 29)\n"
     ]
    }
   ],
   "source": [
    "# Your Code here\n",
    "rus = RandomUnderSampler(random_state = 42)\n",
    "X_dev_under,y_dev_under = rus.fit_resample(X_dev,y_dev)\n",
    "print(y_dev_under.value_counts())\n",
    "print(f\"There are 394 positive and 394 negative labels. The shape of the development dataset is {X_dev_under.shape}\")"
   ]
  },
  {
   "cell_type": "markdown",
   "metadata": {
    "id": "EYBOYBcqMr-9"
   },
   "source": [
    "**1.3.5 Repeat 1.3.1 using the dataset you created in the above step(1.3.4 Random undersampling). (Make sure you use the same hyperparameters as 1.3.1. i,e., max_depth=10 and random_state=42. This will help us to compare the models)**"
   ]
  },
  {
   "cell_type": "code",
   "execution_count": 12,
   "metadata": {
    "id": "hMGzlKuQMrXA"
   },
   "outputs": [
    {
     "name": "stdout",
     "output_type": "stream",
     "text": [
      "The AUC scores are [0.93662875 0.94936709 0.9097901  0.92583577 0.92989289], and the average precision scores are [0.91336577 0.92661432 0.86678359 0.90629539 0.89830283]\n"
     ]
    }
   ],
   "source": [
    "# Your Code here\n",
    "scores_under = cross_validate(dtc,X_dev_under,y_dev_under,cv=5,scoring=['roc_auc','average_precision'])\n",
    "print(f\"The AUC scores are {scores_under['test_roc_auc']}, and the average precision scores are {scores_under['test_average_precision']}\")"
   ]
  },
  {
   "cell_type": "markdown",
   "metadata": {
    "id": "D03K-7rlNOrI"
   },
   "source": [
    "**1.3.6 Perform Synthetic Minority Oversampling Technique(SMOTE) on the development dataset**\n",
    "- What many positive and negative labels do you observe after performing SMOTE?\n",
    "- What is the shape of your development dataset? (Note: Set random state as 42 when performing SMOTE)"
   ]
  },
  {
   "cell_type": "code",
   "execution_count": 13,
   "metadata": {
    "id": "bFzUvcRiMznd"
   },
   "outputs": [
    {
     "name": "stdout",
     "output_type": "stream",
     "text": [
      "0    227451\n",
      "1    227451\n",
      "Name: Class, dtype: int64\n",
      "There are 227451 positive and negative labels. The shape of the development dataset is (454902, 29)\n"
     ]
    }
   ],
   "source": [
    "# Your code here\n",
    "smo = SMOTE(random_state = 42)\n",
    "X_dev_smote,y_dev_smote = smo.fit_resample(X_dev,y_dev)\n",
    "print(y_dev_smote.value_counts())\n",
    "print(f\"There are 227451 positive and negative labels. The shape of the development dataset is {X_dev_smote.shape}\")"
   ]
  },
  {
   "cell_type": "markdown",
   "metadata": {
    "id": "ZkVRBIM-Nn9z"
   },
   "source": [
    "**1.3.7 Repeat 1.3.1 using the dataset you created in the above step(1.3.6 SMOTE). (Make sure you use the same hyperparameters as 1.3.1. i.e., max_depth=10 and random_state=42. This will help us to compare the models)**"
   ]
  },
  {
   "cell_type": "code",
   "execution_count": 14,
   "metadata": {
    "id": "-JDjMP2kNnRJ"
   },
   "outputs": [
    {
     "name": "stdout",
     "output_type": "stream",
     "text": [
      "The AUC scores are [0.99757923 0.99738426 0.99772842 0.9972463  0.99714931], and the average precision scores are [0.99667622 0.99645425 0.99685462 0.99619248 0.99611009]\n"
     ]
    }
   ],
   "source": [
    "# Your Code here\n",
    "scores_smote = cross_validate(dtc,X_dev_smote,y_dev_smote,cv=5,scoring=['roc_auc','average_precision'])\n",
    "print(f\"The AUC scores are {scores_smote['test_roc_auc']}, and the average precision scores are {scores_smote['test_average_precision']}\")"
   ]
  },
  {
   "cell_type": "markdown",
   "metadata": {
    "id": "3b5GAOgCN-pm"
   },
   "source": [
    "**1.3.8 Make predictions on the test set using the four models that you built and report their AUC values.**"
   ]
  },
  {
   "cell_type": "code",
   "execution_count": 15,
   "metadata": {
    "id": "IWIxud5bN9QT"
   },
   "outputs": [
    {
     "name": "stdout",
     "output_type": "stream",
     "text": [
      "The AUC score of decision tree is :0.819676270198569, of oversampling is 0.9017043350120015, of undersampling is 0.896389918516647, of SMOTE is 0.8753799792989789.\n"
     ]
    }
   ],
   "source": [
    "# Your Code here\n",
    "dtc = DecisionTreeClassifier(max_depth=10,random_state=42)\n",
    "dtco = DecisionTreeClassifier(max_depth=10,random_state=42)\n",
    "dtcu = DecisionTreeClassifier(max_depth=10,random_state=42)\n",
    "dtcs = DecisionTreeClassifier(max_depth=10,random_state=42)\n",
    "\n",
    "dtc.fit(X_dev,y_dev)\n",
    "test = dtc.predict_proba(X_test)[:,1]\n",
    "\n",
    "dtco.fit(X_dev_over,y_dev_over)\n",
    "test_over = dtco.predict_proba(X_test)[:,1]\n",
    "\n",
    "dtcu.fit(X_dev_under,y_dev_under)\n",
    "test_under = dtcu.predict_proba(X_test)[:,1]\n",
    "\n",
    "dtcs.fit(X_dev_smote,y_dev_smote)\n",
    "test_smote = dtcs.predict_proba(X_test)[:,1]\n",
    "\n",
    "\n",
    "print(f\"The AUC score of decision tree is :{roc_auc_score(y_test, test)}, \\\n",
    "of oversampling is {roc_auc_score(y_test, test_over)}, \\\n",
    "of undersampling is {roc_auc_score(y_test, test_under)}, \\\n",
    "of SMOTE is {roc_auc_score(y_test, test_smote)}.\")"
   ]
  },
  {
   "cell_type": "markdown",
   "metadata": {
    "id": "8jSslBq5OhNs"
   },
   "source": [
    "**1.3.9 Plot Confusion Matrices for all the four models on the test set. Comment your results**"
   ]
  },
  {
   "cell_type": "code",
   "execution_count": 16,
   "metadata": {
    "id": "ZzWN-hZIOeRk"
   },
   "outputs": [
    {
     "name": "stderr",
     "output_type": "stream",
     "text": [
      "/Users/alanzhu/opt/anaconda3/lib/python3.9/site-packages/sklearn/utils/deprecation.py:87: FutureWarning: Function plot_confusion_matrix is deprecated; Function `plot_confusion_matrix` is deprecated in 1.0 and will be removed in 1.2. Use one of the class methods: ConfusionMatrixDisplay.from_predictions or ConfusionMatrixDisplay.from_estimator.\n",
      "  warnings.warn(msg, category=FutureWarning)\n",
      "/Users/alanzhu/opt/anaconda3/lib/python3.9/site-packages/sklearn/utils/deprecation.py:87: FutureWarning: Function plot_confusion_matrix is deprecated; Function `plot_confusion_matrix` is deprecated in 1.0 and will be removed in 1.2. Use one of the class methods: ConfusionMatrixDisplay.from_predictions or ConfusionMatrixDisplay.from_estimator.\n",
      "  warnings.warn(msg, category=FutureWarning)\n",
      "/Users/alanzhu/opt/anaconda3/lib/python3.9/site-packages/sklearn/utils/deprecation.py:87: FutureWarning: Function plot_confusion_matrix is deprecated; Function `plot_confusion_matrix` is deprecated in 1.0 and will be removed in 1.2. Use one of the class methods: ConfusionMatrixDisplay.from_predictions or ConfusionMatrixDisplay.from_estimator.\n",
      "  warnings.warn(msg, category=FutureWarning)\n",
      "/Users/alanzhu/opt/anaconda3/lib/python3.9/site-packages/sklearn/utils/deprecation.py:87: FutureWarning: Function plot_confusion_matrix is deprecated; Function `plot_confusion_matrix` is deprecated in 1.0 and will be removed in 1.2. Use one of the class methods: ConfusionMatrixDisplay.from_predictions or ConfusionMatrixDisplay.from_estimator.\n",
      "  warnings.warn(msg, category=FutureWarning)\n"
     ]
    },
    {
     "data": {
      "image/png": "[encoded data removed]",
      "text/plain": [
       "<Figure size 720x720 with 8 Axes>"
      ]
     },
     "metadata": {
      "needs_background": "light"
     },
     "output_type": "display_data"
    },
    {
     "name": "stdout",
     "output_type": "stream",
     "text": [
      "The undersampling model has the highest recall score and the lowest precision score. The basic decision tree classifier has the highest precision score. The DTC, oversampling, and SMOTE has almost the same on the recall score. \n"
     ]
    }
   ],
   "source": [
    "# Your Code here\n",
    "fig, ax = plt.subplots(2, 2)\n",
    "fig.set_figheight(10)\n",
    "fig.set_figwidth(10)\n",
    "plot_confusion_matrix(dtc, X_test, y_test,ax=ax[0,0])\n",
    "ax[0,0].set_title('Decision Tree Classifier')\n",
    "plot_confusion_matrix(dtco, X_test, y_test,ax=ax[0,1]) \n",
    "ax[0,1].set_title('Oversampling')\n",
    "plot_confusion_matrix(dtcu, X_test, y_test,ax=ax[1,0])\n",
    "ax[1,0].set_title('Undersampling')\n",
    "plot_confusion_matrix(dtcs, X_test, y_test,ax=ax[1,1])\n",
    "ax[1,1].set_title('SMOTE')\n",
    "plt.show()\n",
    "print(\"The undersampling model has the highest recall score and the lowest precision score. \\\n",
    "The basic decision tree classifier has the highest precision score. The DTC, oversampling, and SMOTE has \\\n",
    "almost the same on the recall score. \")"
   ]
  },
  {
   "cell_type": "markdown",
   "metadata": {
    "id": "OqgVbbL0OwOh"
   },
   "source": [
    "**1.3.10 Plot ROC for all the four models on the test set in a single plot. Make sure you label axes and legend properly. Comment your results**"
   ]
  },
  {
   "cell_type": "code",
   "execution_count": 21,
   "metadata": {
    "id": "oslykiR-OsEj"
   },
   "outputs": [
    {
     "data": {
      "image/png": "[encoded data removed]",
      "text/plain": [
       "<Figure size 432x288 with 1 Axes>"
      ]
     },
     "metadata": {
      "needs_background": "light"
     },
     "output_type": "display_data"
    },
    {
     "name": "stdout",
     "output_type": "stream",
     "text": [
      "The undersampling model has less true positive rate than the others at the initial stage. The other three models' performance are alike. Among these three, oversampling has the largest AUROC, then is SMOTE, and the last is Decision Tree Classifier.\n"
     ]
    }
   ],
   "source": [
    "# Your code\n",
    "proba = dtc.predict_proba(X_test)[:,1]\n",
    "fpr, tpr, thresholds = roc_curve(y_test, proba, pos_label=1)\n",
    "\n",
    "probao = dtco.predict_proba(X_test)[:,1]\n",
    "fpro, tpro, thresholdso = roc_curve(y_test, probao, pos_label=1)\n",
    "\n",
    "probau = dtcu.predict_proba(X_test)[:,1]\n",
    "fpru, tpru, thresholdsu = roc_curve(y_test, probau, pos_label=1)\n",
    "\n",
    "probas = dtcs.predict_proba(X_test)[:,1]\n",
    "fprs, tprs, thresholdss = roc_curve(y_test, probas, pos_label=1)\n",
    "\n",
    "\n",
    "plt.plot(fpr,tpr,label=\"Decision Tree Classifier\")\n",
    "plt.plot(fpru,tpru,label=\"Undersampling\")\n",
    "plt.plot(fpro,tpro,label=\"Oversampling\")\n",
    "plt.plot(fprs,tprs,label=\"SMOTE\")\n",
    "plt.legend(loc=0)\n",
    "plt.xlabel(\"Flase Positive Rate\")\n",
    "plt.ylabel(\"True Positive Rate\")\n",
    "plt.title(\"ROC Curve\")\n",
    "plt.show()\n",
    "print(\"The undersampling model has less true positive rate than the others at the initial stage. \\\n",
    "The other three models' performance are alike. \\\n",
    "Among these three, oversampling has the largest AUROC, then is SMOTE, and the last is Decision Tree \\\n",
    "Classifier.\")"
   ]
  },
  {
   "cell_type": "markdown",
   "metadata": {},
   "source": [
    "**1.3.11 Train a balanced default Decision tree classifier. ( use max_depth=10 and random_state=42). ( balance the class weights). Print the AUC and average precision on dev set**"
   ]
  },
  {
   "cell_type": "code",
   "execution_count": 18,
   "metadata": {
    "id": "vJdAv81NO7Zr"
   },
   "outputs": [
    {
     "name": "stdout",
     "output_type": "stream",
     "text": [
      "The AUC score is 0.8359524571279693, and the average precision score is 0.641744070059615\n"
     ]
    }
   ],
   "source": [
    "# Your code here\n",
    "dtcb = DecisionTreeClassifier(max_depth=10,random_state=42,class_weight='balanced')\n",
    "scores_bal = cross_validate(dtcb,X_dev,y_dev,cv=5,scoring=['roc_auc','average_precision'])\n",
    "print(f\"The AUC score is {scores['test_roc_auc'].mean()}, and the average precision score is {scores['test_average_precision'].mean()}\")\n"
   ]
  },
  {
   "cell_type": "markdown",
   "metadata": {
    "id": "d3rKdyQOP1Eg"
   },
   "source": [
    "<!-- **1.3.12 Train a balanced Decision tree classifier. (You can use max_depth=10 and random_state=42)( balance the class weights). Print the AUC and average precision on test set** (Use Random state = 42) -->"
   ]
  },
  {
   "cell_type": "markdown",
   "metadata": {
    "id": "C0HfvhYWQMNf"
   },
   "source": [
    "**1.3.12 Plot confusion matrix on test set using the above model and comment on your results**"
   ]
  },
  {
   "cell_type": "code",
   "execution_count": 19,
   "metadata": {
    "id": "PIK5MUdeQLfZ"
   },
   "outputs": [
    {
     "name": "stderr",
     "output_type": "stream",
     "text": [
      "/Users/alanzhu/opt/anaconda3/lib/python3.9/site-packages/sklearn/utils/deprecation.py:87: FutureWarning: Function plot_confusion_matrix is deprecated; Function `plot_confusion_matrix` is deprecated in 1.0 and will be removed in 1.2. Use one of the class methods: ConfusionMatrixDisplay.from_predictions or ConfusionMatrixDisplay.from_estimator.\n",
      "  warnings.warn(msg, category=FutureWarning)\n"
     ]
    },
    {
     "data": {
      "image/png": "[encoded data removed]",
      "text/plain": [
       "<Figure size 432x288 with 2 Axes>"
      ]
     },
     "metadata": {
      "needs_background": "light"
     },
     "output_type": "display_data"
    },
    {
     "name": "stdout",
     "output_type": "stream",
     "text": [
      "After balancing the weight, the balanced dtc's performance is similar to Oversampling and SMOTE. It has a realitive high recall score and low precision score.\n"
     ]
    }
   ],
   "source": [
    "# Your code here\n",
    "dtcb.fit(X_dev,y_dev)\n",
    "plot_confusion_matrix(dtcb, X_test, y_test)\n",
    "plt.show()\n",
    "print(\"After balancing the weight, the balanced dtc's performance is similar to Oversampling and SMOTE. \\\n",
    "It has a realitive high recall score and low precision score.\")"
   ]
  },
  {
   "cell_type": "code",
   "execution_count": null,
   "metadata": {},
   "outputs": [],
   "source": []
  }
 ],
 "metadata": {
  "colab": {
   "collapsed_sections": [],
   "provenance": []
  },
  "kernelspec": {
   "display_name": "Python 3 (ipykernel)",
   "language": "python",
   "name": "python3"
  },
  "language_info": {
   "codemirror_mode": {
    "name": "ipython",
    "version": 3
   },
   "file_extension": ".py",
   "mimetype": "text/x-python",
   "name": "python",
   "nbconvert_exporter": "python",
   "pygments_lexer": "ipython3",
   "version": "3.9.12"
  }
 },
 "nbformat": 4,
 "nbformat_minor": 1
}
