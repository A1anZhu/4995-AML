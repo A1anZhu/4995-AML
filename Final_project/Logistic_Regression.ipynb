{
  "cells": [
    {
      "cell_type": "code",
      "execution_count": 1,
      "metadata": {
        "id": "IdftSB03tM1M"
      },
      "outputs": [],
      "source": [
        "import numpy as np\n",
        "import pandas as pd\n",
        "import seaborn as sns\n",
        "import matplotlib.pyplot as plt\n",
        "%matplotlib inline\n",
        "import warnings\n",
        "from sklearn.model_selection import train_test_split, StratifiedKFold\n",
        "from sklearn.metrics import roc_auc_score, confusion_matrix, precision_recall_fscore_support,roc_curve\n",
        "from lightgbm import LGBMClassifier\n",
        "from xgboost import XGBClassifier\n",
        "from sklearn.ensemble import RandomForestClassifier, GradientBoostingClassifier\n",
        "from sklearn.tree import DecisionTreeClassifier\n",
        "from sklearn.linear_model import LogisticRegression\n",
        "from sklearn.svm import SVC \n",
        "from sklearn.metrics import classification_report, f1_score\n",
        "from sklearn.model_selection import RandomizedSearchCV\n",
        "from sklearn.pipeline import make_pipeline\n",
        "from scipy.stats import uniform\n"
      ]
    },
    {
      "cell_type": "code",
      "execution_count": 2,
      "metadata": {
        "colab": {
          "base_uri": "https://localhost:8080/"
        },
        "id": "JDCnZzFPzJJC",
        "outputId": "8283f11b-87fc-4e7b-8bed-8ff6f6c3b60e"
      },
      "outputs": [
        {
          "output_type": "stream",
          "name": "stdout",
          "text": [
            "Mounted at /content/gdrive\n"
          ]
        }
      ],
      "source": [
        "from google.colab import drive \n",
        "drive.mount('/content/gdrive')"
      ]
    },
    {
      "cell_type": "code",
      "execution_count": 3,
      "metadata": {
        "id": "ZvFBO0yG0Szr"
      },
      "outputs": [],
      "source": [
        "# from google.colab import files\n",
        "# uploaded = files.upload()"
      ]
    },
    {
      "cell_type": "code",
      "execution_count": 4,
      "metadata": {
        "id": "I5D5OTOgV3f_"
      },
      "outputs": [],
      "source": [
        "df = pd.read_csv(\"/content/gdrive/MyDrive/diabetes_binary_health_indicators_BRFSS2015.csv\")"
      ]
    },
    {
      "cell_type": "code",
      "execution_count": 5,
      "metadata": {
        "colab": {
          "base_uri": "https://localhost:8080/"
        },
        "id": "geE4gD9urm9D",
        "outputId": "ef57fa2c-811d-4c8e-823d-8b9bde0431d5"
      },
      "outputs": [
        {
          "output_type": "execute_result",
          "data": {
            "text/plain": [
              "(253680, 22)"
            ]
          },
          "metadata": {},
          "execution_count": 5
        }
      ],
      "source": [
        "df.shape"
      ]
    },
    {
      "cell_type": "code",
      "execution_count": 6,
      "metadata": {
        "colab": {
          "base_uri": "https://localhost:8080/",
          "height": 300
        },
        "id": "9jkcMU9gWYbf",
        "outputId": "3bd4b91a-fbe5-465b-f45e-10d38b92773e"
      },
      "outputs": [
        {
          "output_type": "execute_result",
          "data": {
            "text/plain": [
              "   Diabetes_binary  HighBP  HighChol  CholCheck   BMI  Smoker  Stroke  \\\n",
              "0              0.0     1.0       1.0        1.0  40.0     1.0     0.0   \n",
              "1              0.0     0.0       0.0        0.0  25.0     1.0     0.0   \n",
              "2              0.0     1.0       1.0        1.0  28.0     0.0     0.0   \n",
              "3              0.0     1.0       0.0        1.0  27.0     0.0     0.0   \n",
              "4              0.0     1.0       1.0        1.0  24.0     0.0     0.0   \n",
              "\n",
              "   HeartDiseaseorAttack  PhysActivity  Fruits  ...  AnyHealthcare  \\\n",
              "0                   0.0           0.0     0.0  ...            1.0   \n",
              "1                   0.0           1.0     0.0  ...            0.0   \n",
              "2                   0.0           0.0     1.0  ...            1.0   \n",
              "3                   0.0           1.0     1.0  ...            1.0   \n",
              "4                   0.0           1.0     1.0  ...            1.0   \n",
              "\n",
              "   NoDocbcCost  GenHlth  MentHlth  PhysHlth  DiffWalk  Sex   Age  Education  \\\n",
              "0          0.0      5.0      18.0      15.0       1.0  0.0   9.0        4.0   \n",
              "1          1.0      3.0       0.0       0.0       0.0  0.0   7.0        6.0   \n",
              "2          1.0      5.0      30.0      30.0       1.0  0.0   9.0        4.0   \n",
              "3          0.0      2.0       0.0       0.0       0.0  0.0  11.0        3.0   \n",
              "4          0.0      2.0       3.0       0.0       0.0  0.0  11.0        5.0   \n",
              "\n",
              "   Income  \n",
              "0     3.0  \n",
              "1     1.0  \n",
              "2     8.0  \n",
              "3     6.0  \n",
              "4     4.0  \n",
              "\n",
              "[5 rows x 22 columns]"
            ],
            "text/html": [
              "\n",
              "  <div id=\"df-11e79344-53bb-48aa-84b3-5b5a7574a805\">\n",
              "    <div class=\"colab-df-container\">\n",
              "      <div>\n",
              "<style scoped>\n",
              "    .dataframe tbody tr th:only-of-type {\n",
              "        vertical-align: middle;\n",
              "    }\n",
              "\n",
              "    .dataframe tbody tr th {\n",
              "        vertical-align: top;\n",
              "    }\n",
              "\n",
              "    .dataframe thead th {\n",
              "        text-align: right;\n",
              "    }\n",
              "</style>\n",
              "<table border=\"1\" class=\"dataframe\">\n",
              "  <thead>\n",
              "    <tr style=\"text-align: right;\">\n",
              "      <th></th>\n",
              "      <th>Diabetes_binary</th>\n",
              "      <th>HighBP</th>\n",
              "      <th>HighChol</th>\n",
              "      <th>CholCheck</th>\n",
              "      <th>BMI</th>\n",
              "      <th>Smoker</th>\n",
              "      <th>Stroke</th>\n",
              "      <th>HeartDiseaseorAttack</th>\n",
              "      <th>PhysActivity</th>\n",
              "      <th>Fruits</th>\n",
              "      <th>...</th>\n",
              "      <th>AnyHealthcare</th>\n",
              "      <th>NoDocbcCost</th>\n",
              "      <th>GenHlth</th>\n",
              "      <th>MentHlth</th>\n",
              "      <th>PhysHlth</th>\n",
              "      <th>DiffWalk</th>\n",
              "      <th>Sex</th>\n",
              "      <th>Age</th>\n",
              "      <th>Education</th>\n",
              "      <th>Income</th>\n",
              "    </tr>\n",
              "  </thead>\n",
              "  <tbody>\n",
              "    <tr>\n",
              "      <th>0</th>\n",
              "      <td>0.0</td>\n",
              "      <td>1.0</td>\n",
              "      <td>1.0</td>\n",
              "      <td>1.0</td>\n",
              "      <td>40.0</td>\n",
              "      <td>1.0</td>\n",
              "      <td>0.0</td>\n",
              "      <td>0.0</td>\n",
              "      <td>0.0</td>\n",
              "      <td>0.0</td>\n",
              "      <td>...</td>\n",
              "      <td>1.0</td>\n",
              "      <td>0.0</td>\n",
              "      <td>5.0</td>\n",
              "      <td>18.0</td>\n",
              "      <td>15.0</td>\n",
              "      <td>1.0</td>\n",
              "      <td>0.0</td>\n",
              "      <td>9.0</td>\n",
              "      <td>4.0</td>\n",
              "      <td>3.0</td>\n",
              "    </tr>\n",
              "    <tr>\n",
              "      <th>1</th>\n",
              "      <td>0.0</td>\n",
              "      <td>0.0</td>\n",
              "      <td>0.0</td>\n",
              "      <td>0.0</td>\n",
              "      <td>25.0</td>\n",
              "      <td>1.0</td>\n",
              "      <td>0.0</td>\n",
              "      <td>0.0</td>\n",
              "      <td>1.0</td>\n",
              "      <td>0.0</td>\n",
              "      <td>...</td>\n",
              "      <td>0.0</td>\n",
              "      <td>1.0</td>\n",
              "      <td>3.0</td>\n",
              "      <td>0.0</td>\n",
              "      <td>0.0</td>\n",
              "      <td>0.0</td>\n",
              "      <td>0.0</td>\n",
              "      <td>7.0</td>\n",
              "      <td>6.0</td>\n",
              "      <td>1.0</td>\n",
              "    </tr>\n",
              "    <tr>\n",
              "      <th>2</th>\n",
              "      <td>0.0</td>\n",
              "      <td>1.0</td>\n",
              "      <td>1.0</td>\n",
              "      <td>1.0</td>\n",
              "      <td>28.0</td>\n",
              "      <td>0.0</td>\n",
              "      <td>0.0</td>\n",
              "      <td>0.0</td>\n",
              "      <td>0.0</td>\n",
              "      <td>1.0</td>\n",
              "      <td>...</td>\n",
              "      <td>1.0</td>\n",
              "      <td>1.0</td>\n",
              "      <td>5.0</td>\n",
              "      <td>30.0</td>\n",
              "      <td>30.0</td>\n",
              "      <td>1.0</td>\n",
              "      <td>0.0</td>\n",
              "      <td>9.0</td>\n",
              "      <td>4.0</td>\n",
              "      <td>8.0</td>\n",
              "    </tr>\n",
              "    <tr>\n",
              "      <th>3</th>\n",
              "      <td>0.0</td>\n",
              "      <td>1.0</td>\n",
              "      <td>0.0</td>\n",
              "      <td>1.0</td>\n",
              "      <td>27.0</td>\n",
              "      <td>0.0</td>\n",
              "      <td>0.0</td>\n",
              "      <td>0.0</td>\n",
              "      <td>1.0</td>\n",
              "      <td>1.0</td>\n",
              "      <td>...</td>\n",
              "      <td>1.0</td>\n",
              "      <td>0.0</td>\n",
              "      <td>2.0</td>\n",
              "      <td>0.0</td>\n",
              "      <td>0.0</td>\n",
              "      <td>0.0</td>\n",
              "      <td>0.0</td>\n",
              "      <td>11.0</td>\n",
              "      <td>3.0</td>\n",
              "      <td>6.0</td>\n",
              "    </tr>\n",
              "    <tr>\n",
              "      <th>4</th>\n",
              "      <td>0.0</td>\n",
              "      <td>1.0</td>\n",
              "      <td>1.0</td>\n",
              "      <td>1.0</td>\n",
              "      <td>24.0</td>\n",
              "      <td>0.0</td>\n",
              "      <td>0.0</td>\n",
              "      <td>0.0</td>\n",
              "      <td>1.0</td>\n",
              "      <td>1.0</td>\n",
              "      <td>...</td>\n",
              "      <td>1.0</td>\n",
              "      <td>0.0</td>\n",
              "      <td>2.0</td>\n",
              "      <td>3.0</td>\n",
              "      <td>0.0</td>\n",
              "      <td>0.0</td>\n",
              "      <td>0.0</td>\n",
              "      <td>11.0</td>\n",
              "      <td>5.0</td>\n",
              "      <td>4.0</td>\n",
              "    </tr>\n",
              "  </tbody>\n",
              "</table>\n",
              "<p>5 rows × 22 columns</p>\n",
              "</div>\n",
              "      <button class=\"colab-df-convert\" onclick=\"convertToInteractive('df-11e79344-53bb-48aa-84b3-5b5a7574a805')\"\n",
              "              title=\"Convert this dataframe to an interactive table.\"\n",
              "              style=\"display:none;\">\n",
              "        \n",
              "  <svg xmlns=\"http://www.w3.org/2000/svg\" height=\"24px\"viewBox=\"0 0 24 24\"\n",
              "       width=\"24px\">\n",
              "    <path d=\"M0 0h24v24H0V0z\" fill=\"none\"/>\n",
              "    <path d=\"M18.56 5.44l.94 2.06.94-2.06 2.06-.94-2.06-.94-.94-2.06-.94 2.06-2.06.94zm-11 1L8.5 8.5l.94-2.06 2.06-.94-2.06-.94L8.5 2.5l-.94 2.06-2.06.94zm10 10l.94 2.06.94-2.06 2.06-.94-2.06-.94-.94-2.06-.94 2.06-2.06.94z\"/><path d=\"M17.41 7.96l-1.37-1.37c-.4-.4-.92-.59-1.43-.59-.52 0-1.04.2-1.43.59L10.3 9.45l-7.72 7.72c-.78.78-.78 2.05 0 2.83L4 21.41c.39.39.9.59 1.41.59.51 0 1.02-.2 1.41-.59l7.78-7.78 2.81-2.81c.8-.78.8-2.07 0-2.86zM5.41 20L4 18.59l7.72-7.72 1.47 1.35L5.41 20z\"/>\n",
              "  </svg>\n",
              "      </button>\n",
              "      \n",
              "  <style>\n",
              "    .colab-df-container {\n",
              "      display:flex;\n",
              "      flex-wrap:wrap;\n",
              "      gap: 12px;\n",
              "    }\n",
              "\n",
              "    .colab-df-convert {\n",
              "      background-color: #E8F0FE;\n",
              "      border: none;\n",
              "      border-radius: 50%;\n",
              "      cursor: pointer;\n",
              "      display: none;\n",
              "      fill: #1967D2;\n",
              "      height: 32px;\n",
              "      padding: 0 0 0 0;\n",
              "      width: 32px;\n",
              "    }\n",
              "\n",
              "    .colab-df-convert:hover {\n",
              "      background-color: #E2EBFA;\n",
              "      box-shadow: 0px 1px 2px rgba(60, 64, 67, 0.3), 0px 1px 3px 1px rgba(60, 64, 67, 0.15);\n",
              "      fill: #174EA6;\n",
              "    }\n",
              "\n",
              "    [theme=dark] .colab-df-convert {\n",
              "      background-color: #3B4455;\n",
              "      fill: #D2E3FC;\n",
              "    }\n",
              "\n",
              "    [theme=dark] .colab-df-convert:hover {\n",
              "      background-color: #434B5C;\n",
              "      box-shadow: 0px 1px 3px 1px rgba(0, 0, 0, 0.15);\n",
              "      filter: drop-shadow(0px 1px 2px rgba(0, 0, 0, 0.3));\n",
              "      fill: #FFFFFF;\n",
              "    }\n",
              "  </style>\n",
              "\n",
              "      <script>\n",
              "        const buttonEl =\n",
              "          document.querySelector('#df-11e79344-53bb-48aa-84b3-5b5a7574a805 button.colab-df-convert');\n",
              "        buttonEl.style.display =\n",
              "          google.colab.kernel.accessAllowed ? 'block' : 'none';\n",
              "\n",
              "        async function convertToInteractive(key) {\n",
              "          const element = document.querySelector('#df-11e79344-53bb-48aa-84b3-5b5a7574a805');\n",
              "          const dataTable =\n",
              "            await google.colab.kernel.invokeFunction('convertToInteractive',\n",
              "                                                     [key], {});\n",
              "          if (!dataTable) return;\n",
              "\n",
              "          const docLinkHtml = 'Like what you see? Visit the ' +\n",
              "            '<a target=\"_blank\" href=https://colab.research.google.com/notebooks/data_table.ipynb>data table notebook</a>'\n",
              "            + ' to learn more about interactive tables.';\n",
              "          element.innerHTML = '';\n",
              "          dataTable['output_type'] = 'display_data';\n",
              "          await google.colab.output.renderOutput(dataTable, element);\n",
              "          const docLink = document.createElement('div');\n",
              "          docLink.innerHTML = docLinkHtml;\n",
              "          element.appendChild(docLink);\n",
              "        }\n",
              "      </script>\n",
              "    </div>\n",
              "  </div>\n",
              "  "
            ]
          },
          "metadata": {},
          "execution_count": 6
        }
      ],
      "source": [
        "df.head()"
      ]
    },
    {
      "cell_type": "markdown",
      "metadata": {
        "id": "FTPvTx4SXw1Q"
      },
      "source": [
        "Check missing values"
      ]
    },
    {
      "cell_type": "code",
      "execution_count": 7,
      "metadata": {
        "colab": {
          "base_uri": "https://localhost:8080/"
        },
        "id": "B5Msc2phXaZ6",
        "outputId": "768f122e-2699-4826-e9d7-a9d7fe2441b7"
      },
      "outputs": [
        {
          "output_type": "execute_result",
          "data": {
            "text/plain": [
              "Diabetes_binary         0\n",
              "HighBP                  0\n",
              "HighChol                0\n",
              "CholCheck               0\n",
              "BMI                     0\n",
              "Smoker                  0\n",
              "Stroke                  0\n",
              "HeartDiseaseorAttack    0\n",
              "PhysActivity            0\n",
              "Fruits                  0\n",
              "Veggies                 0\n",
              "HvyAlcoholConsump       0\n",
              "AnyHealthcare           0\n",
              "NoDocbcCost             0\n",
              "GenHlth                 0\n",
              "MentHlth                0\n",
              "PhysHlth                0\n",
              "DiffWalk                0\n",
              "Sex                     0\n",
              "Age                     0\n",
              "Education               0\n",
              "Income                  0\n",
              "dtype: int64"
            ]
          },
          "metadata": {},
          "execution_count": 7
        }
      ],
      "source": [
        "df.isnull().sum()"
      ]
    },
    {
      "cell_type": "code",
      "execution_count": 8,
      "metadata": {
        "colab": {
          "base_uri": "https://localhost:8080/"
        },
        "id": "GVAyC_ufjxto",
        "outputId": "49043e02-7d20-4edd-f7c1-c3f033c745c3"
      },
      "outputs": [
        {
          "output_type": "stream",
          "name": "stdout",
          "text": [
            "Number of duplicate rows : 24206\n"
          ]
        }
      ],
      "source": [
        "dup = df[df.duplicated()]\n",
        "print(f\"Number of duplicate rows : {len(dup)}\")"
      ]
    },
    {
      "cell_type": "code",
      "execution_count": 39,
      "metadata": {
        "id": "DIuqUSV79mdD",
        "colab": {
          "base_uri": "https://localhost:8080/"
        },
        "outputId": "43e8a9d8-747b-4882-c3d4-036ba3590560"
      },
      "outputs": [
        {
          "output_type": "stream",
          "name": "stdout",
          "text": [
            "['Diabetes_binary', 'HighBP', 'HighChol', 'CholCheck', 'BMI', 'Smoker', 'Stroke', 'HeartDiseaseorAttack', 'PhysActivity', 'Fruits', 'Veggies', 'HvyAlcoholConsump', 'AnyHealthcare', 'NoDocbcCost', 'GenHlth', 'MentHlth', 'PhysHlth', 'DiffWalk', 'Sex', 'Age', 'Education', 'Income']\n"
          ]
        }
      ],
      "source": [
        "df.drop_duplicates(inplace = True)"
      ]
    },
    {
      "cell_type": "code",
      "source": [
        "dup = df[df.duplicated()]\n",
        "print(f\"Number of duplicate rows : {len(dup)}\")"
      ],
      "metadata": {
        "colab": {
          "base_uri": "https://localhost:8080/"
        },
        "id": "8ex_I1Kw0Q9_",
        "outputId": "3987bdb0-e5b3-472b-a85a-db5a83a43127"
      },
      "execution_count": 10,
      "outputs": [
        {
          "output_type": "stream",
          "name": "stdout",
          "text": [
            "Number of duplicate rows : 0\n"
          ]
        }
      ]
    },
    {
      "cell_type": "code",
      "execution_count": 11,
      "metadata": {
        "colab": {
          "base_uri": "https://localhost:8080/"
        },
        "id": "Gssn5X4lXYke",
        "outputId": "d02cd389-9e16-4522-81fd-2584e58e40e2"
      },
      "outputs": [
        {
          "output_type": "execute_result",
          "data": {
            "text/plain": [
              "(229474, 22)"
            ]
          },
          "metadata": {},
          "execution_count": 11
        }
      ],
      "source": [
        "df.shape"
      ]
    },
    {
      "cell_type": "markdown",
      "metadata": {
        "id": "iUSmrJn7X3M6"
      },
      "source": [
        "Show the distribution of each features"
      ]
    },
    {
      "cell_type": "code",
      "execution_count": 12,
      "metadata": {
        "colab": {
          "base_uri": "https://localhost:8080/",
          "height": 994
        },
        "id": "BYWYEEXzXjaB",
        "outputId": "a93d3a9f-14e4-4d1b-cd6b-02a373aa33b0"
      },
      "outputs": [
        {
          "output_type": "display_data",
          "data": {
            "text/plain": [
              "<Figure size 1800x1296 with 25 Axes>"
            ],
            "image/png": "[encoded data removed]"
          },
          "metadata": {
            "needs_background": "light"
          }
        }
      ],
      "source": [
        "df.hist(figsize=(25,18));"
      ]
    },
    {
      "cell_type": "markdown",
      "metadata": {
        "id": "fswwsqrYYlbT"
      },
      "source": [
        "Check the correlation between features"
      ]
    },
    {
      "cell_type": "code",
      "execution_count": 13,
      "metadata": {
        "colab": {
          "base_uri": "https://localhost:8080/",
          "height": 553
        },
        "id": "32wehrrnYbvn",
        "outputId": "4e927265-e0f0-4203-98f7-5e397a81d1ef"
      },
      "outputs": [
        {
          "output_type": "stream",
          "name": "stderr",
          "text": [
            "/usr/local/lib/python3.8/dist-packages/seaborn/_decorators.py:36: FutureWarning: Pass the following variable as a keyword arg: x. From version 0.12, the only valid positional argument will be `data`, and passing other arguments without an explicit keyword will result in an error or misinterpretation.\n",
            "  warnings.warn(\n"
          ]
        },
        {
          "output_type": "display_data",
          "data": {
            "text/plain": [
              "<Figure size 360x576 with 1 Axes>"
            ],
            "image/png": "[encoded data removed]"
          },
          "metadata": {
            "needs_background": "light"
          }
        }
      ],
      "source": [
        "X=df.drop('Diabetes_binary', axis=1)\n",
        "y=df['Diabetes_binary']\n",
        "plt.figure(figsize=(5,8))\n",
        "sns.countplot(df[\"Diabetes_binary\"].replace({0:\"Non-Diabetic\",1:\"Diabetic\"}))\n",
        "plt.xlabel(\"Diabetes\")\n",
        "plt.ylabel(\"Count\")\n",
        "plt.show()"
      ]
    },
    {
      "cell_type": "code",
      "source": [
        "columns_names = list(X.columns)\n",
        "print(columns_names)"
      ],
      "metadata": {
        "colab": {
          "base_uri": "https://localhost:8080/"
        },
        "id": "js4Wr2RJZnrL",
        "outputId": "b41c8b20-bb79-45ef-eaa3-ea81ec152927"
      },
      "execution_count": 42,
      "outputs": [
        {
          "output_type": "stream",
          "name": "stdout",
          "text": [
            "['HighBP', 'HighChol', 'CholCheck', 'BMI', 'Smoker', 'Stroke', 'HeartDiseaseorAttack', 'PhysActivity', 'Fruits', 'Veggies', 'HvyAlcoholConsump', 'AnyHealthcare', 'NoDocbcCost', 'GenHlth', 'MentHlth', 'PhysHlth', 'DiffWalk', 'Sex', 'Age', 'Education', 'Income']\n"
          ]
        }
      ]
    },
    {
      "cell_type": "code",
      "execution_count": 14,
      "metadata": {
        "id": "rMFe5sID5gvr"
      },
      "outputs": [],
      "source": [
        "X_dev, X_test, y_dev, y_test = train_test_split(X,y,test_size = 0.2, random_state=42, stratify=y)"
      ]
    },
    {
      "cell_type": "code",
      "source": [
        "from imblearn.over_sampling import SMOTE\n",
        "from sklearn.preprocessing import StandardScaler\n",
        "from sklearn.model_selection import train_test_split"
      ],
      "metadata": {
        "id": "m3S4-eHk6zo7"
      },
      "execution_count": 15,
      "outputs": []
    },
    {
      "cell_type": "code",
      "source": [
        "smo = SMOTE(random_state = 42)\n",
        "X_dev_smote,y_dev_smote = smo.fit_resample(X_dev,y_dev)"
      ],
      "metadata": {
        "id": "AXwAlfhV7QuV"
      },
      "execution_count": 16,
      "outputs": []
    },
    {
      "cell_type": "code",
      "source": [
        "ss = StandardScaler()\n",
        "X_dev_smote = ss.fit_transform(X_dev_smote)\n",
        "X_test_smote = ss.transform(X_test)"
      ],
      "metadata": {
        "id": "4YHs5kAS7858"
      },
      "execution_count": 17,
      "outputs": []
    },
    {
      "cell_type": "code",
      "source": [
        "y_dev_smote.shape"
      ],
      "metadata": {
        "id": "7Q4Yi9EUHIVY",
        "colab": {
          "base_uri": "https://localhost:8080/"
        },
        "outputId": "cef42547-3b04-41bd-9b21-45ac5c8454fc"
      },
      "execution_count": 18,
      "outputs": [
        {
          "output_type": "execute_result",
          "data": {
            "text/plain": [
              "(311002,)"
            ]
          },
          "metadata": {},
          "execution_count": 18
        }
      ]
    },
    {
      "cell_type": "code",
      "source": [
        "X_train_smote, X_val_smote, y_train_smote, y_val_smote = train_test_split(X_dev_smote, y_dev_smote,test_size=0.2)"
      ],
      "metadata": {
        "id": "uWqmf4IZ8IRA"
      },
      "execution_count": 19,
      "outputs": []
    },
    {
      "cell_type": "code",
      "source": [
        "print(f\"The shape of x_train is {y_val_smote.shape}\")"
      ],
      "metadata": {
        "colab": {
          "base_uri": "https://localhost:8080/"
        },
        "id": "g8iIPX5a-LFO",
        "outputId": "7d761ced-94c9-44b9-95c0-6ba0e38c15b5"
      },
      "execution_count": 20,
      "outputs": [
        {
          "output_type": "stream",
          "name": "stdout",
          "text": [
            "The shape of x_train is (62201,)\n"
          ]
        }
      ]
    },
    {
      "cell_type": "code",
      "source": [
        "lr = LogisticRegression(penalty='l2')\n",
        "\n",
        "lr.fit(X_train_smote, y_train_smote)\n",
        "print(lr.score(X_test_smote, y_test))\n",
        "\n",
        "clf_report = classification_report(y_test,lr.predict(X_test_smote))\n",
        "print(clf_report)\n",
        "\n",
        "print(f1_score(y_test,lr.predict(X_test_smote)))"
      ],
      "metadata": {
        "colab": {
          "base_uri": "https://localhost:8080/"
        },
        "id": "-kKblSqB-qlY",
        "outputId": "777455fc-a32d-4584-a867-1be222618be7"
      },
      "execution_count": 21,
      "outputs": [
        {
          "output_type": "stream",
          "name": "stdout",
          "text": [
            "0.7155245669462904\n",
            "              precision    recall  f1-score   support\n",
            "\n",
            "         0.0       0.94      0.71      0.81     38876\n",
            "         1.0       0.32      0.75      0.45      7019\n",
            "\n",
            "    accuracy                           0.72     45895\n",
            "   macro avg       0.63      0.73      0.63     45895\n",
            "weighted avg       0.85      0.72      0.75     45895\n",
            "\n",
            "0.4473416864205892\n"
          ]
        }
      ]
    },
    {
      "cell_type": "code",
      "source": [
        "lr = LogisticRegression(C=1, penalty='l1', solver='liblinear')\n",
        "\n",
        "lr.fit(X_train_smote, y_train_smote)\n",
        "print(lr.score(X_test_smote, y_test))\n",
        "\n",
        "clf_report = classification_report(y_test,lr.predict(X_test_smote))\n",
        "print(clf_report)\n",
        "\n",
        "print(f1_score(y_test,lr.predict(X_test_smote)))"
      ],
      "metadata": {
        "colab": {
          "base_uri": "https://localhost:8080/"
        },
        "id": "EfWhSelV-q4n",
        "outputId": "0203c592-1f54-4e18-8a16-9a217cab1993"
      },
      "execution_count": 22,
      "outputs": [
        {
          "output_type": "stream",
          "name": "stdout",
          "text": [
            "0.71554635581218\n",
            "              precision    recall  f1-score   support\n",
            "\n",
            "         0.0       0.94      0.71      0.81     38876\n",
            "         1.0       0.32      0.75      0.45      7019\n",
            "\n",
            "    accuracy                           0.72     45895\n",
            "   macro avg       0.63      0.73      0.63     45895\n",
            "weighted avg       0.85      0.72      0.75     45895\n",
            "\n",
            "0.44736062312153413\n"
          ]
        }
      ]
    },
    {
      "cell_type": "code",
      "source": [
        "lr = LogisticRegression(C=1, penalty='elasticnet', solver='saga', l1_ratio = 0.2)\n",
        "\n",
        "lr.fit(X_train_smote, y_train_smote)\n",
        "print(lr.score(X_test_smote, y_test))\n",
        "\n",
        "clf_report = classification_report(y_test,lr.predict(X_test_smote))\n",
        "print(clf_report)\n",
        "\n",
        "print(f1_score(y_test,lr.predict(X_test_smote)))"
      ],
      "metadata": {
        "colab": {
          "base_uri": "https://localhost:8080/"
        },
        "id": "MT-fq9W5GnwX",
        "outputId": "ae2c4951-d059-48de-c0de-c50f9cd19c0d"
      },
      "execution_count": 23,
      "outputs": [
        {
          "output_type": "stream",
          "name": "stdout",
          "text": [
            "0.7155245669462904\n",
            "              precision    recall  f1-score   support\n",
            "\n",
            "         0.0       0.94      0.71      0.81     38876\n",
            "         1.0       0.32      0.75      0.45      7019\n",
            "\n",
            "    accuracy                           0.72     45895\n",
            "   macro avg       0.63      0.73      0.63     45895\n",
            "weighted avg       0.85      0.72      0.75     45895\n",
            "\n",
            "0.4473416864205892\n"
          ]
        }
      ]
    },
    {
      "cell_type": "code",
      "source": [
        "ss = StandardScaler()\n",
        "X_dev = ss.fit_transform(X_dev)\n",
        "X_test = ss.transform(X_test)\n",
        "\n",
        "X_train, X_val, y_train, y_val = train_test_split(X_dev, y_dev,test_size=0.2)"
      ],
      "metadata": {
        "id": "8Nh6v17h2jEC"
      },
      "execution_count": 24,
      "outputs": []
    },
    {
      "cell_type": "code",
      "source": [
        "lr = LogisticRegression(penalty='l2')\n",
        "\n",
        "lr.fit(X_train, y_train)\n",
        "print(lr.score(X_test, y_test))\n",
        "\n",
        "clf_report = classification_report(y_test,lr.predict(X_test))\n",
        "print(clf_report)\n",
        "\n",
        "print(f1_score(y_test,lr.predict(X_test)))"
      ],
      "metadata": {
        "colab": {
          "base_uri": "https://localhost:8080/"
        },
        "id": "dxtUbYTsHBzw",
        "outputId": "5dacbc06-1fba-4ea4-dae0-206d67393979"
      },
      "execution_count": 25,
      "outputs": [
        {
          "output_type": "stream",
          "name": "stdout",
          "text": [
            "0.8506155354613792\n",
            "              precision    recall  f1-score   support\n",
            "\n",
            "         0.0       0.86      0.98      0.92     38876\n",
            "         1.0       0.54      0.15      0.24      7019\n",
            "\n",
            "    accuracy                           0.85     45895\n",
            "   macro avg       0.70      0.56      0.58     45895\n",
            "weighted avg       0.82      0.85      0.81     45895\n",
            "\n",
            "0.2373748609566185\n"
          ]
        }
      ]
    },
    {
      "cell_type": "code",
      "source": [
        "lr = LogisticRegression(C=1, penalty='l1', solver='liblinear')\n",
        "\n",
        "lr.fit(X_train, y_train)\n",
        "print(lr.score(X_test, y_test))\n",
        "\n",
        "clf_report = classification_report(y_test,lr.predict(X_test))\n",
        "print(clf_report)\n",
        "\n",
        "print(f1_score(y_test,lr.predict(X_test)))"
      ],
      "metadata": {
        "colab": {
          "base_uri": "https://localhost:8080/"
        },
        "id": "-kpnwLYE2W75",
        "outputId": "c66275e9-69a6-4981-b5cc-44c322a371f8"
      },
      "execution_count": 26,
      "outputs": [
        {
          "output_type": "stream",
          "name": "stdout",
          "text": [
            "0.8505937465954897\n",
            "              precision    recall  f1-score   support\n",
            "\n",
            "         0.0       0.86      0.98      0.92     38876\n",
            "         1.0       0.54      0.15      0.24      7019\n",
            "\n",
            "    accuracy                           0.85     45895\n",
            "   macro avg       0.70      0.56      0.58     45895\n",
            "weighted avg       0.82      0.85      0.81     45895\n",
            "\n",
            "0.237178774057181\n"
          ]
        }
      ]
    },
    {
      "cell_type": "code",
      "source": [
        "lr = LogisticRegression(C=1, penalty='elasticnet', solver='saga', l1_ratio = 0.2)\n",
        "\n",
        "lr.fit(X_train, y_train)\n",
        "print(lr.score(X_test, y_test))\n",
        "\n",
        "clf_report = classification_report(y_test,lr.predict(X_test))\n",
        "print(clf_report)\n",
        "\n",
        "print(f1_score(y_test,lr.predict(X_test)))"
      ],
      "metadata": {
        "colab": {
          "base_uri": "https://localhost:8080/"
        },
        "id": "Rr_ymoLZ2YOE",
        "outputId": "89a3f1b4-0697-4a3c-cd1e-ba9700d35607"
      },
      "execution_count": 27,
      "outputs": [
        {
          "output_type": "stream",
          "name": "stdout",
          "text": [
            "0.8506155354613792\n",
            "              precision    recall  f1-score   support\n",
            "\n",
            "         0.0       0.86      0.98      0.92     38876\n",
            "         1.0       0.54      0.15      0.24      7019\n",
            "\n",
            "    accuracy                           0.85     45895\n",
            "   macro avg       0.70      0.56      0.58     45895\n",
            "weighted avg       0.82      0.85      0.81     45895\n",
            "\n",
            "0.2373748609566185\n"
          ]
        }
      ]
    },
    {
      "cell_type": "code",
      "source": [
        "lr = LogisticRegression(solver='saga', tol=1e-2, max_iter=200,random_state=0)\n",
        "\n",
        "distributions = dict(C=uniform(loc=0, scale=4),penalty=['l2', 'l1'])\n",
        "clf = RandomizedSearchCV(lr, distributions, random_state=0)\n",
        "search = clf.fit(X_train, y_train)\n",
        "print(search.best_params_)\n",
        "\n",
        "\n",
        "print(clf.score(X_test, y_test))\n",
        "\n",
        "clf_report = classification_report(y_test,clf.predict(X_test))\n",
        "print(clf_report)\n",
        "\n",
        "print(f1_score(y_test,clf.predict(X_test)))"
      ],
      "metadata": {
        "colab": {
          "base_uri": "https://localhost:8080/"
        },
        "id": "qjly_sUP7EIP",
        "outputId": "febb5eaa-e211-4f94-a425-66072df51782"
      },
      "execution_count": 28,
      "outputs": [
        {
          "output_type": "stream",
          "name": "stdout",
          "text": [
            "{'C': 0.22685190926977272, 'penalty': 'l2'}\n",
            "0.8505065911319316\n",
            "              precision    recall  f1-score   support\n",
            "\n",
            "         0.0       0.86      0.98      0.92     38876\n",
            "         1.0       0.54      0.15      0.24      7019\n",
            "\n",
            "    accuracy                           0.85     45895\n",
            "   macro avg       0.70      0.56      0.58     45895\n",
            "weighted avg       0.81      0.85      0.81     45895\n",
            "\n",
            "0.23588372870030075\n"
          ]
        }
      ]
    },
    {
      "cell_type": "code",
      "source": [
        "lr = LogisticRegression(solver='saga', tol=1e-2, max_iter=200,random_state=0)\n",
        "\n",
        "distributions = dict(C=uniform(loc=0, scale=4),penalty=['l2', 'l1'])\n",
        "clf = RandomizedSearchCV(lr, distributions, random_state=0)\n",
        "search = clf.fit(X_train_smote, y_train_smote)\n",
        "print(search.best_params_)\n",
        "\n",
        "\n",
        "print(clf.score(X_test_smote, y_test))\n",
        "\n",
        "clf_report = classification_report(y_test,clf.predict(X_test_smote))\n",
        "print(clf_report)\n",
        "\n",
        "print(f1_score(y_test,clf.predict(X_test_smote)))"
      ],
      "metadata": {
        "colab": {
          "base_uri": "https://localhost:8080/"
        },
        "id": "CNnl1T5N9y3E",
        "outputId": "3a7e46b3-14ce-4354-c55e-bcef9cbb3a80"
      },
      "execution_count": 29,
      "outputs": [
        {
          "output_type": "stream",
          "name": "stdout",
          "text": [
            "{'C': 3.3770629943240693, 'penalty': 'l1'}\n",
            "0.7159385553981915\n",
            "              precision    recall  f1-score   support\n",
            "\n",
            "         0.0       0.94      0.71      0.81     38876\n",
            "         1.0       0.32      0.75      0.45      7019\n",
            "\n",
            "    accuracy                           0.72     45895\n",
            "   macro avg       0.63      0.73      0.63     45895\n",
            "weighted avg       0.85      0.72      0.75     45895\n",
            "\n",
            "0.44774854915914775\n"
          ]
        }
      ]
    },
    {
      "cell_type": "code",
      "source": [
        "from matplotlib import pyplot\n",
        "\n",
        "lr = LogisticRegression(C=3.377, penalty='l1', solver='liblinear')\n",
        "\n",
        "lr.fit(X_train_smote, y_train_smote)\n",
        "\n",
        "importance = lr.coef_[0]\n",
        "for i,v in enumerate(importance):\n",
        " print('Feature: %0d, Score: %.5f' % (i,v))\n"
      ],
      "metadata": {
        "colab": {
          "base_uri": "https://localhost:8080/"
        },
        "id": "UJqgkask-XuL",
        "outputId": "b1968aae-bec8-4c4b-a80d-75cbf08299ec"
      },
      "execution_count": 62,
      "outputs": [
        {
          "output_type": "stream",
          "name": "stdout",
          "text": [
            "Feature: 0, Score: 0.40119\n",
            "Feature: 1, Score: 0.33412\n",
            "Feature: 2, Score: 0.24769\n",
            "Feature: 3, Score: 0.48332\n",
            "Feature: 4, Score: -0.00891\n",
            "Feature: 5, Score: -0.00643\n",
            "Feature: 6, Score: 0.04029\n",
            "Feature: 7, Score: 0.02651\n",
            "Feature: 8, Score: 0.00300\n",
            "Feature: 9, Score: 0.03212\n",
            "Feature: 10, Score: -0.22343\n",
            "Feature: 11, Score: 0.05352\n",
            "Feature: 12, Score: -0.04288\n",
            "Feature: 13, Score: 0.65600\n",
            "Feature: 14, Score: -0.04099\n",
            "Feature: 15, Score: -0.08874\n",
            "Feature: 16, Score: 0.02611\n",
            "Feature: 17, Score: 0.14985\n",
            "Feature: 18, Score: 0.39752\n",
            "Feature: 19, Score: -0.01531\n",
            "Feature: 20, Score: -0.10106\n"
          ]
        }
      ]
    },
    {
      "cell_type": "code",
      "source": [
        "columns_names[0]"
      ],
      "metadata": {
        "colab": {
          "base_uri": "https://localhost:8080/",
          "height": 35
        },
        "id": "O9fPTs_ZYzKu",
        "outputId": "8ecb2029-0ff3-4adb-d1af-28b2e95f8dda"
      },
      "execution_count": 63,
      "outputs": [
        {
          "output_type": "execute_result",
          "data": {
            "text/plain": [
              "'HighBP'"
            ],
            "application/vnd.google.colaboratory.intrinsic+json": {
              "type": "string"
            }
          },
          "metadata": {},
          "execution_count": 63
        }
      ]
    },
    {
      "cell_type": "code",
      "source": [
        "# Reference: https://stackoverflow.com/questions/41592661/determining-the-most-contributing-features-for-svm-classifier-in-sklearn\n",
        "def f_importances(coef, names, s='without'):\n",
        "    imp = coef\n",
        "    imp,names = zip(*sorted(zip(imp,names)))\n",
        "    plt.barh(range(len(names)), imp, align='center')\n",
        "    plt.yticks(range(len(names)), names)\n",
        "    plt.title(f'Logistic regression with SMOTE Feature Importance')\n",
        "    plt.show()"
      ],
      "metadata": {
        "id": "rmiEiFN9dVJ2"
      },
      "execution_count": 68,
      "outputs": []
    },
    {
      "cell_type": "code",
      "source": [
        "f_importances(importance, X.columns)"
      ],
      "metadata": {
        "colab": {
          "base_uri": "https://localhost:8080/",
          "height": 281
        },
        "id": "8GliCw4Bezma",
        "outputId": "accdd9ea-6d02-42f5-ca50-7a6386b1e888"
      },
      "execution_count": 69,
      "outputs": [
        {
          "output_type": "display_data",
          "data": {
            "text/plain": [
              "<Figure size 432x288 with 1 Axes>"
            ],
            "image/png": "[encoded data removed]"
          },
          "metadata": {
            "needs_background": "light"
          }
        }
      ]
    },
    {
      "cell_type": "code",
      "source": [
        "from matplotlib import pyplot\n",
        "\n",
        "lr = LogisticRegression(C=0.226, penalty='l2', solver='liblinear')\n",
        "\n",
        "lr.fit(X_train, y_train)\n",
        "\n",
        "importance = lr.coef_[0]\n",
        "for i,v in enumerate(importance):\n",
        " print('Feature: %0d, Score: %.5f' % (i,v))\n"
      ],
      "metadata": {
        "colab": {
          "base_uri": "https://localhost:8080/"
        },
        "id": "x2fHUOW8e6jJ",
        "outputId": "7955e739-2d92-460f-80fd-c2ea7aeeb014"
      },
      "execution_count": 66,
      "outputs": [
        {
          "output_type": "stream",
          "name": "stdout",
          "text": [
            "Feature: 0, Score: 0.36737\n",
            "Feature: 1, Score: 0.27053\n",
            "Feature: 2, Score: 0.25750\n",
            "Feature: 3, Score: 0.39201\n",
            "Feature: 4, Score: -0.00980\n",
            "Feature: 5, Score: 0.02357\n",
            "Feature: 6, Score: 0.06500\n",
            "Feature: 7, Score: -0.01555\n",
            "Feature: 8, Score: -0.00894\n",
            "Feature: 9, Score: -0.00128\n",
            "Feature: 10, Score: -0.18900\n",
            "Feature: 11, Score: 0.01927\n",
            "Feature: 12, Score: -0.00212\n",
            "Feature: 13, Score: 0.54029\n",
            "Feature: 14, Score: -0.03462\n",
            "Feature: 15, Score: -0.06661\n",
            "Feature: 16, Score: 0.05078\n",
            "Feature: 17, Score: 0.13614\n",
            "Feature: 18, Score: 0.37557\n",
            "Feature: 19, Score: -0.01550\n",
            "Feature: 20, Score: -0.09171\n"
          ]
        }
      ]
    },
    {
      "cell_type": "code",
      "source": [
        "# Reference: https://stackoverflow.com/questions/41592661/determining-the-most-contributing-features-for-svm-classifier-in-sklearn\n",
        "def f_importances(coef, names, s='without'):\n",
        "    imp = coef\n",
        "    imp,names = zip(*sorted(zip(imp,names)))\n",
        "    plt.barh(range(len(names)), imp, align='center')\n",
        "    plt.yticks(range(len(names)), names)\n",
        "    plt.title(f'Logistic regression without SMOTE Feature Importance')\n",
        "    plt.show()"
      ],
      "metadata": {
        "id": "PcV1h-ESgfrc"
      },
      "execution_count": 70,
      "outputs": []
    },
    {
      "cell_type": "code",
      "source": [
        "f_importances(importance, X.columns)"
      ],
      "metadata": {
        "colab": {
          "base_uri": "https://localhost:8080/",
          "height": 281
        },
        "id": "e0Y--B7SgdbD",
        "outputId": "cc717b86-929b-4465-8edb-29dcc52d441f"
      },
      "execution_count": 71,
      "outputs": [
        {
          "output_type": "display_data",
          "data": {
            "text/plain": [
              "<Figure size 432x288 with 1 Axes>"
            ],
            "image/png": "[encoded data removed]"
          },
          "metadata": {
            "needs_background": "light"
          }
        }
      ]
    },
    {
      "cell_type": "code",
      "source": [],
      "metadata": {
        "id": "SQfNPpaFgliz"
      },
      "execution_count": null,
      "outputs": []
    }
  ],
  "metadata": {
    "colab": {
      "provenance": []
    },
    "kernelspec": {
      "display_name": "Python 3",
      "name": "python3"
    },
    "language_info": {
      "name": "python"
    }
  },
  "nbformat": 4,
  "nbformat_minor": 0
}